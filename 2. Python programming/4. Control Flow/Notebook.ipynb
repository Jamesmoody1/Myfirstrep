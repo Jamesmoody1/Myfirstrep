{
 "cells": [
  {
   "cell_type": "markdown",
   "source": [
    "# 4 : Introduction to Control Flow"
   ],
   "metadata": {}
  },
  {
   "cell_type": "markdown",
   "source": [
    "## Learning objectives\n",
    "- Understand the idea of control flow and basic programming.\n",
    "- Know how to use if statements.\n",
    "- Know how to use elif and else statements.\n",
    "- Understand the idea of iteration.\n",
    "- Understand indefinite iteration.\n",
    "- Know how to use while loops."
   ],
   "metadata": {}
  },
  {
   "cell_type": "markdown",
   "source": [
    "# Control Flow"
   ],
   "metadata": {}
  },
  {
   "cell_type": "markdown",
   "source": [
    "- Control Flow is the order of execution of instructions in a computer program.\n",
    "- A program is a series of instructions called statements.\n",
    "- The order in which those statements are executed can vary.\n",
    "- Control flow allows for decision making (conditional statements), branching and loops in code."
   ],
   "metadata": {}
  },
  {
   "cell_type": "markdown",
   "source": [
    "## Conditional Statements"
   ],
   "metadata": {}
  },
  {
   "cell_type": "markdown",
   "source": [
    "![If Else](images/ifelse.png)"
   ],
   "metadata": {}
  },
  {
   "cell_type": "markdown",
   "source": [
    "### If statements\n",
    "\n",
    "- An if statement is a piece of code that causes another piece of code to be executed based on the fulfillment of a condition.\n",
    "- If statements employ boolean operators to check whether something is true, and so whether or not to execute a piece of code.\n",
    "- The basic syntax for an if statement in pseudo-code is as follows:"
   ],
   "metadata": {}
  },
  {
   "cell_type": "code",
   "execution_count": 1,
   "source": [
    "# if some_condition:\r\n",
    "#     do_something"
   ],
   "outputs": [],
   "metadata": {}
  },
  {
   "cell_type": "markdown",
   "source": [
    "- Note the indentation: Python determines precedence based on indentation/whitespace rather than brackets, like other languages.\n",
    "- The standard practice for indentation as recommended by PEP8 guidelines is 4 spaces, but you can also use a tab.\n",
    "- However, you cannot mix spaces and tabs for indentation.\n",
    "- Jupyter Notebook - like many other IDEs - will automatically indent after a colon."
   ],
   "metadata": {}
  },
  {
   "cell_type": "markdown",
   "source": [
    "### Elif and else statements\n",
    "\n",
    "- Elif ('else if') statements add a block of code to be executed if the first condition is not fulfilled.\n",
    "- Else statements add a block of code to be executed if none of the previous conditions are fulfilled.\n",
    "- The syntax is as follows, again note the whitespace alignment:"
   ],
   "metadata": {}
  },
  {
   "cell_type": "code",
   "execution_count": 5,
   "source": [
    "# if some_condition:\r\n",
    "#     do_something\r\n",
    "# elif some_other_condition:\r\n",
    "#     do_something_else\r\n",
    "# else:\r\n",
    "#     do_this"
   ],
   "outputs": [],
   "metadata": {}
  },
  {
   "cell_type": "markdown",
   "source": [
    "### Examples"
   ],
   "metadata": {}
  },
  {
   "cell_type": "code",
   "execution_count": 3,
   "source": [
    "x = input('Enter your age')\r\n",
    "x = int(x) # Input will return a string, you need an integer\r\n",
    "if x >= 21:\r\n",
    "    print(\"You are allowed to drink in the US\")\r\n",
    "elif x >= 18:\r\n",
    "    print(\"You are allowed to drink, but not in the US\")\r\n",
    "elif x < 0:\r\n",
    "    print('Wait, what??')\r\n",
    "else:\r\n",
    "    print('You can have a Fanta')"
   ],
   "outputs": [
    {
     "output_type": "stream",
     "name": "stdout",
     "text": [
      "Wait, what??\n"
     ]
    }
   ],
   "metadata": {}
  },
  {
   "cell_type": "code",
   "execution_count": 6,
   "source": [
    "a = int(input('Enter a number for A'))\r\n",
    "b = int(input('Enter a number for B'))\r\n",
    "\r\n",
    "print(f'A is equal to {a}')\r\n",
    "print(f'B  is equal to {b}')\r\n",
    "if a > b:\r\n",
    "    print(\"A is larger than B\")\r\n",
    "elif a < b:\r\n",
    "    print (\"A is smaller than B\")\r\n",
    "else:\r\n",
    "    print (\"A is equal to B\")"
   ],
   "outputs": [
    {
     "output_type": "stream",
     "name": "stdout",
     "text": [
      "a is equal to 6\n",
      "b is equal to 9\n",
      "A is smaller than B\n"
     ]
    }
   ],
   "metadata": {}
  },
  {
   "cell_type": "code",
   "execution_count": null,
   "source": [
    " if a > b: print(\"a is greater than b\") "
   ],
   "outputs": [],
   "metadata": {}
  },
  {
   "cell_type": "code",
   "execution_count": null,
   "source": [
    "print(\"A\") if a > b else print(\"B\") "
   ],
   "outputs": [],
   "metadata": {}
  },
  {
   "cell_type": "code",
   "execution_count": 8,
   "source": [
    "a = int(input('Enter a number for A'))\r\n",
    "b = int(input('Enter a number for B'))\r\n",
    "c = int(input('Enter a number for C'))\r\n",
    "\r\n",
    "if a > b and b > c:\r\n",
    "  print(\"Both conditions are True\")"
   ],
   "outputs": [
    {
     "output_type": "stream",
     "name": "stdout",
     "text": [
      "Both conditions are True\n"
     ]
    }
   ],
   "metadata": {}
  },
  {
   "cell_type": "markdown",
   "source": [
    "## Loops"
   ],
   "metadata": {}
  },
  {
   "cell_type": "markdown",
   "source": [
    "### Iteration\n",
    "\n",
    "- Iterable: data structure capable of returning its elements one at a time e.g. list, tuple, string, dictionary(d.keys() returns a list).\n",
    "- Iteration: performing the same operation repeatedly (often over each element of an iterable).\n",
    "- e.g. multiplying each element in a list by 2, or taking index 0 of each item in a list of strings."
   ],
   "metadata": {}
  },
  {
   "cell_type": "markdown",
   "source": [
    "### While Loops\n",
    "- While loops perform the same operation WHILE some boolean condition is fulfilled.\n",
    "- This is called indefinite iteration: where the number of iterations is unknown.\n",
    "- We will not cover while loops in great detail as they are not useful to data science."
   ],
   "metadata": {}
  },
  {
   "cell_type": "markdown",
   "source": [
    "### Basic Syntax"
   ],
   "metadata": {}
  },
  {
   "cell_type": "code",
   "execution_count": 2,
   "source": [
    "# while some_condition:\r\n",
    "#     do_something\r\n",
    "# else:\r\n",
    "#     do_something_else"
   ],
   "outputs": [],
   "metadata": {}
  },
  {
   "cell_type": "markdown",
   "source": [
    "We can break the syntax down as follows:\n",
    "- The while keyword: this is the key to the statement, it indicates a while loop and refers to some_condition.\n",
    "- The condition: the while keyword checks whether this condition is True, and executes the dependent block of code if it is.\n",
    "- do_something: this is the block of code to execute if the condition is True.\n",
    "- else statement: this is the block of code to execute if the condition is False.\n",
    "- __While__ the condition is __True__, the block of code will be executed, and the program will then __loop back__ to the while statement, recheck the condition, and execute again.\n",
    "- This continues __INDEFINITELY__ until the condition is untrue: hence indefinite iteration.\n",
    "- One of the most common mistakes is creating an __infinite loop__, where the condition __does not become untrue__, and hence the code continues to execute, taking up increasing memory until your computer crashes.\n",
    "- Hence we must include some way of changing the condition inside the loop, either in the do_something statement or using a break keyword (mentioned below)."
   ],
   "metadata": {}
  },
  {
   "cell_type": "markdown",
   "source": [
    "### Example"
   ],
   "metadata": {}
  },
  {
   "cell_type": "code",
   "execution_count": 17,
   "source": [
    "x = 0\r\n",
    "\r\n",
    "while x < 5:\r\n",
    "    print(f\"The current value of x is {x}\")\r\n",
    "    x += 1\r\n",
    "else:\r\n",
    "    print(\"x not less than 5\")"
   ],
   "outputs": [
    {
     "output_type": "stream",
     "name": "stdout",
     "text": [
      "The current value of x is 0\n",
      "The current value of x is 1\n",
      "The current value of x is 2\n",
      "The current value of x is 3\n",
      "The current value of x is 4\n",
      "x not less than 5\n"
     ]
    }
   ],
   "metadata": {}
  },
  {
   "cell_type": "code",
   "execution_count": null,
   "source": [
    "x = 0\r\n",
    "\r\n",
    "while x < 5:\r\n",
    "    print(f\"The current value of x is {x}\")\r\n",
    "    x += 1\r\n",
    "else:\r\n",
    "    print(\"x not less than 5\")"
   ],
   "outputs": [],
   "metadata": {}
  },
  {
   "cell_type": "markdown",
   "source": [
    "### Break Keyword"
   ],
   "metadata": {}
  },
  {
   "cell_type": "markdown",
   "source": [
    "- We can use break to break out of an enclosing loop: usually it is used with an if statement in order to break the loop if some condition is fulfilled.\n",
    "- If the break keyword is run, the code will not loop back to the top, it will stop executing there and move onto the next statement.\n",
    "- We can see this here because 2 is not printed: the print statement is indented, and so is a later part of the loop."
   ],
   "metadata": {}
  },
  {
   "cell_type": "code",
   "execution_count": 18,
   "source": [
    "x = 0\r\n",
    "while x < 5:\r\n",
    "    if x == 2:\r\n",
    "        break\r\n",
    "    print(x)\r\n",
    "    x += 1"
   ],
   "outputs": [
    {
     "output_type": "stream",
     "name": "stdout",
     "text": [
      "0\n",
      "1\n"
     ]
    }
   ],
   "metadata": {}
  },
  {
   "cell_type": "markdown",
   "source": [
    "## Control Flow Questions"
   ],
   "metadata": {}
  },
  {
   "cell_type": "markdown",
   "source": [
    "## Summary\n",
    "We now understand:\n",
    "\n",
    "- The basics of control flow and the order in which code is executed.\n",
    "- The idea of iteration and indefinite iteration in particular.\n",
    "\n",
    "We now know:\n",
    "\n",
    "- How to employ conditional statements to manipulate control flow in code.\n",
    "- How to use a while loop.\n",
    "\n",
    "\n",
    "## Further reading\n",
    "- Control flow: https://docs.python.org/3.8/tutorial/controlflow.html?highlight=control%20flow\n",
    "- While statements: https://docs.python.org/3.8/reference/compound_stmts.html#while"
   ],
   "metadata": {}
  },
  {
   "cell_type": "code",
   "execution_count": null,
   "source": [],
   "outputs": [],
   "metadata": {}
  }
 ],
 "metadata": {
  "interpreter": {
   "hash": "569d6b7e9215e11aba41c6454007e5c1b78bad7df09dab765d8cf00362c40f03"
  },
  "kernelspec": {
   "display_name": "Python 3.9.1 64-bit ('base': conda)",
   "name": "python3"
  },
  "language_info": {
   "name": "python",
   "version": ""
  }
 },
 "nbformat": 4,
 "nbformat_minor": 2
}