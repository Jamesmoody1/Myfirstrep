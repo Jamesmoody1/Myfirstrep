{
 "cells": [
  {
   "cell_type": "markdown",
   "source": [
    "# 8. Advanced Python"
   ],
   "metadata": {}
  },
  {
   "cell_type": "markdown",
   "source": [
    "## Lambda Functions\n",
    "\n"
   ],
   "metadata": {}
  },
  {
   "cell_type": "markdown",
   "source": [
    "\n",
    "\n",
    "Lambda functions are basically shorter version of the functions that we already know"
   ],
   "metadata": {}
  },
  {
   "cell_type": "code",
   "execution_count": 16,
   "source": [
    "def func_filter(y):\r\n",
    "    if y < 3:\r\n",
    "        print('I am lower than 3')\r\n",
    "    else:\r\n",
    "        return y\r\n",
    "\r\n",
    "x = func_filter(1)"
   ],
   "outputs": [
    {
     "output_type": "stream",
     "name": "stdout",
     "text": [
      "I am lower than 3\n"
     ]
    }
   ],
   "metadata": {}
  },
  {
   "cell_type": "markdown",
   "source": [
    "Another way is using lambda functions"
   ],
   "metadata": {}
  },
  {
   "cell_type": "code",
   "execution_count": 19,
   "source": [
    "func_lambda = lambda y: y * 2\r\n",
    "\r\n",
    "x = func_lambda(3)"
   ],
   "outputs": [],
   "metadata": {}
  },
  {
   "cell_type": "markdown",
   "source": [
    "The syntax is:\n",
    "\n",
    "lambda input: expression to return"
   ],
   "metadata": {}
  },
  {
   "cell_type": "code",
   "execution_count": 21,
   "source": [
    "square = lambda x: x ** 2\n",
    "\n",
    "print(square(3))"
   ],
   "outputs": [
    {
     "output_type": "stream",
     "name": "stdout",
     "text": [
      "9\n"
     ]
    }
   ],
   "metadata": {}
  },
  {
   "cell_type": "code",
   "execution_count": 23,
   "source": [
    "(lambda x, y: x + y)(5, 7)\n",
    "\n",
    "# print(addition(5, 7))"
   ],
   "outputs": [
    {
     "output_type": "execute_result",
     "data": {
      "text/plain": [
       "12"
      ]
     },
     "metadata": {},
     "execution_count": 23
    }
   ],
   "metadata": {}
  },
  {
   "cell_type": "markdown",
   "source": [
    "We generally use it as an argument to a higher-order function. We will see higher functions that accept lambda functions to perform small operations. For now, let's see three small functions: sorted(), filter(), map()"
   ],
   "metadata": {}
  },
  {
   "cell_type": "code",
   "execution_count": 24,
   "source": [
    "sorted([5, 2, 4, 2, 3])"
   ],
   "outputs": [
    {
     "output_type": "execute_result",
     "data": {
      "text/plain": [
       "[2, 2, 3, 4, 5]"
      ]
     },
     "metadata": {},
     "execution_count": 24
    }
   ],
   "metadata": {}
  },
  {
   "cell_type": "code",
   "execution_count": 25,
   "source": [
    "got = [('Caitlyn', 'Tully'), ('Arya', 'Stark'), ('Bran', 'Stark'), ('Arya', 'Baratheon'), ('Jon', 'Snow'), ('Jon', 'Targaryen')]\n",
    "\n",
    "sorted(got) # Sort by the given name, and in case it is the same, sort by last name"
   ],
   "outputs": [
    {
     "output_type": "execute_result",
     "data": {
      "text/plain": [
       "[('Arya', 'Baratheon'),\n",
       " ('Arya', 'Stark'),\n",
       " ('Bran', 'Stark'),\n",
       " ('Caitlyn', 'Tully'),\n",
       " ('Jon', 'Snow'),\n",
       " ('Jon', 'Targaryen')]"
      ]
     },
     "metadata": {},
     "execution_count": 25
    }
   ],
   "metadata": {}
  },
  {
   "cell_type": "markdown",
   "source": [
    "What if we want to sort them by last names?"
   ],
   "metadata": {}
  },
  {
   "cell_type": "code",
   "execution_count": 20,
   "source": [
    "for element in got:\n",
    "    print(element[1])"
   ],
   "outputs": [
    {
     "output_type": "stream",
     "name": "stdout",
     "text": [
      "Tully\n",
      "Stark\n",
      "Stark\n",
      "Baratheon\n",
      "Snow\n",
      "Targaryen\n"
     ]
    }
   ],
   "metadata": {}
  },
  {
   "cell_type": "code",
   "execution_count": 26,
   "source": [
    "sorted(got, key=lambda x: x[1])"
   ],
   "outputs": [
    {
     "output_type": "execute_result",
     "data": {
      "text/plain": [
       "[('Arya', 'Baratheon'),\n",
       " ('Jon', 'Snow'),\n",
       " ('Arya', 'Stark'),\n",
       " ('Bran', 'Stark'),\n",
       " ('Jon', 'Targaryen'),\n",
       " ('Caitlyn', 'Tully')]"
      ]
     },
     "metadata": {},
     "execution_count": 26
    }
   ],
   "metadata": {}
  },
  {
   "cell_type": "markdown",
   "source": [
    "Or even by last name length"
   ],
   "metadata": {}
  },
  {
   "cell_type": "code",
   "execution_count": 21,
   "source": [
    "sorted(got, key=lambda element: len(element[1]))"
   ],
   "outputs": [
    {
     "output_type": "execute_result",
     "data": {
      "text/plain": [
       "[('Jon', 'Snow'),\n",
       " ('Caitlyn', 'Tully'),\n",
       " ('Arya', 'Stark'),\n",
       " ('Bran', 'Stark'),\n",
       " ('Arya', 'Baratheon'),\n",
       " ('Jon', 'Targaryen')]"
      ]
     },
     "metadata": {},
     "execution_count": 21
    }
   ],
   "metadata": {}
  },
  {
   "cell_type": "markdown",
   "source": [
    "lambda functions can also be used to apply a function to an iterable"
   ],
   "metadata": {}
  },
  {
   "cell_type": "code",
   "execution_count": 27,
   "source": [
    "ls_numbers = [1, 5, 10, 15, 20, 25, 42]\n",
    "ls_numbers * 2"
   ],
   "outputs": [
    {
     "output_type": "execute_result",
     "data": {
      "text/plain": [
       "[1, 5, 10, 15, 20, 25, 42, 1, 5, 10, 15, 20, 25, 42]"
      ]
     },
     "metadata": {},
     "execution_count": 27
    }
   ],
   "metadata": {}
  },
  {
   "cell_type": "code",
   "execution_count": 30,
   "source": [
    "ls_numbers = [1, 5, 10, 15, 20, 25, 42]\n",
    "# I want to multiply each element by 2\n",
    "ls_twice = [x * 2 for x in ls_numbers] # Comprehension list\n",
    "ls_doubled = map(lambda x: x * 2, ls_numbers)\n",
    "\n",
    "print(ls_twice)\n",
    "print(dir(ls_doubled))\n",
    "print(list(ls_doubled))"
   ],
   "outputs": [
    {
     "output_type": "stream",
     "name": "stdout",
     "text": [
      "[2, 10, 20, 30, 40, 50, 84]\n",
      "['__class__', '__delattr__', '__dir__', '__doc__', '__eq__', '__format__', '__ge__', '__getattribute__', '__gt__', '__hash__', '__init__', '__init_subclass__', '__iter__', '__le__', '__lt__', '__ne__', '__new__', '__next__', '__reduce__', '__reduce_ex__', '__repr__', '__setattr__', '__sizeof__', '__str__', '__subclasshook__']\n",
      "[2, 10, 20, 30, 40, 50, 84]\n"
     ]
    }
   ],
   "metadata": {}
  },
  {
   "cell_type": "markdown",
   "source": [
    "If lambda has two arguments, it runs until there is no more elements in one of the iterables"
   ],
   "metadata": {}
  },
  {
   "cell_type": "code",
   "execution_count": 23,
   "source": [
    "fun = lambda x, y: x ** y\n",
    "print(list(map(fun, [1, 3, 3, 4], [1, 3, 4])))\n",
    "print(list(map(fun, [1, 3, 3, 4], [1, 3, 4, 2])))\n",
    "print(list(map(fun, [1, 3], [1, 3, 4, 2])))"
   ],
   "outputs": [
    {
     "output_type": "stream",
     "name": "stdout",
     "text": [
      "[1, 27, 81]\n",
      "[1, 27, 81, 16]\n",
      "[1, 27]\n"
     ]
    }
   ],
   "metadata": {}
  },
  {
   "cell_type": "markdown",
   "source": [
    "We can also filter elements in a list if they meet a certain condition. The condition should return a Boolean"
   ],
   "metadata": {}
  },
  {
   "cell_type": "code",
   "execution_count": 1,
   "source": [
    "got = [('Drogon', 508), ('Jon', 103), ('Rhaegal', 273), ('Cersei', 199), ('Arya', 1278)]\n",
    "\n",
    "killers = filter(lambda x: x[1] > 200, got)\n",
    "print(killers)\n",
    "print(list(killers))"
   ],
   "outputs": [
    {
     "output_type": "stream",
     "name": "stdout",
     "text": [
      "<filter object at 0x7f8a5ec6a820>\n",
      "[('Drogon', 508), ('Rhaegal', 273), ('Arya', 1278)]\n"
     ]
    }
   ],
   "metadata": {}
  },
  {
   "cell_type": "code",
   "execution_count": 30,
   "source": [
    "numbers = [1, 2, 3]\n",
    "list(filter(lambda x: (x + 1) * 3 / 3 % 3 == 0, numbers))"
   ],
   "outputs": [
    {
     "output_type": "execute_result",
     "data": {
      "text/plain": [
       "[2]"
      ]
     },
     "metadata": {},
     "execution_count": 30
    }
   ],
   "metadata": {}
  },
  {
   "cell_type": "markdown",
   "source": [
    "## Decorators\n"
   ],
   "metadata": {}
  },
  {
   "cell_type": "markdown",
   "source": [
    "To understand decorators, you should understand that inner functions also exist"
   ],
   "metadata": {}
  },
  {
   "cell_type": "code",
   "execution_count": 7,
   "source": [
    "def caller(num):\n",
    "    def first_child():\n",
    "        print('I am being called')\n",
    "        return \"I am the first child\"\n",
    "\n",
    "    def second_child():\n",
    "        return \"I am the second child\"\n",
    "\n",
    "    if num == 1:\n",
    "        return first_child\n",
    "    else:\n",
    "        return second_child\n",
    "\n",
    "\n",
    "caller(2)()\n",
    "# print(caller(2))\n",
    "# print(caller(1)())\n",
    "# print(caller(2)())"
   ],
   "outputs": [
    {
     "output_type": "execute_result",
     "data": {
      "text/plain": [
       "'I am the second child'"
      ]
     },
     "metadata": {},
     "execution_count": 7
    }
   ],
   "metadata": {}
  },
  {
   "cell_type": "markdown",
   "source": [
    "With that in mind, let's see decorators. Essentially, decorators extend the functionality of a function."
   ],
   "metadata": {}
  },
  {
   "cell_type": "code",
   "execution_count": 51,
   "source": [
    "def my_decorator(func):\n",
    "    def wrapper(name):\n",
    "        print(\"I come before the function!\")\n",
    "        func(name)\n",
    "        print(\"I come after the function!\")\n",
    "    return wrapper\n",
    "\n",
    "def say_truth(name):\n",
    "    print(f\"{name} didn't kill himself\")\n",
    "\n",
    "def say_hi(name):\n",
    "    print(f'Hello {name}')\n",
    "\n",
    "print(my_decorator(say_hi)('Ivan'))"
   ],
   "outputs": [
    {
     "output_type": "stream",
     "name": "stdout",
     "text": [
      "I come before the function!\n",
      "Hello Ivan\n",
      "I come after the function!\n",
      "None\n"
     ]
    }
   ],
   "metadata": {}
  },
  {
   "cell_type": "code",
   "execution_count": 45,
   "source": [
    "wave"
   ],
   "outputs": [
    {
     "output_type": "execute_result",
     "data": {
      "text/plain": [
       "<function __main__.my_decorator.<locals>.wrapper(name)>"
      ]
     },
     "metadata": {},
     "execution_count": 45
    }
   ],
   "metadata": {}
  },
  {
   "cell_type": "code",
   "execution_count": 28,
   "source": [
    "# truth('Ivan')\n",
    "wave('Ivan')"
   ],
   "outputs": [
    {
     "output_type": "stream",
     "name": "stdout",
     "text": [
      "I come before the function!\n",
      "Hello Ivan\n",
      "I come after the function!\n"
     ]
    }
   ],
   "metadata": {}
  },
  {
   "cell_type": "code",
   "execution_count": 24,
   "source": [
    "truth('Ivan')"
   ],
   "outputs": [
    {
     "output_type": "stream",
     "name": "stdout",
     "text": [
      "I come before the function!\n",
      "Ivan didn't kill himself\n",
      "I come after the function!\n"
     ]
    }
   ],
   "metadata": {}
  },
  {
   "cell_type": "code",
   "execution_count": 12,
   "source": [
    "def wrapper():\n",
    "    print(\"I come before the function!\")\n",
    "    say_truth()\n",
    "    print(\"I come after the function!\")"
   ],
   "outputs": [],
   "metadata": {}
  },
  {
   "cell_type": "code",
   "execution_count": 13,
   "source": [
    "print(wrapper())"
   ],
   "outputs": [
    {
     "output_type": "stream",
     "name": "stdout",
     "text": [
      "I come before the function!\n",
      "Epstein didn't kill himself\n",
      "I come after the function!\n",
      "None\n"
     ]
    }
   ],
   "metadata": {}
  },
  {
   "cell_type": "code",
   "execution_count": 44,
   "source": [
    "print(truth())"
   ],
   "outputs": [
    {
     "output_type": "stream",
     "name": "stdout",
     "text": [
      "I come before the function!\n",
      "Epstein didn't kill himself\n",
      "I come after the function!\n",
      "Something\n"
     ]
    }
   ],
   "metadata": {}
  },
  {
   "cell_type": "markdown",
   "source": [
    "truth is pointing to the inner wrapper. It will go something like this:\n",
    "```\n",
    "def wrapper():\n",
    "    print(\"I come before the function!\")\n",
    "    say_truth()\n",
    "    print(\"I come after the function!\")\n",
    "```\n",
    "Which is actually what my_decorator is returning"
   ],
   "metadata": {}
  },
  {
   "cell_type": "code",
   "execution_count": 45,
   "source": [
    "truth()"
   ],
   "outputs": [
    {
     "output_type": "stream",
     "name": "stdout",
     "text": [
      "I come before the function!\n",
      "Epstein didn't kill himself\n",
      "I come after the function!\n"
     ]
    },
    {
     "output_type": "execute_result",
     "data": {
      "text/plain": [
       "'Something'"
      ]
     },
     "metadata": {},
     "execution_count": 45
    }
   ],
   "metadata": {}
  },
  {
   "cell_type": "markdown",
   "source": [
    "A cool thing you can do with decorators is timing how long it will take for a function to run"
   ],
   "metadata": {}
  },
  {
   "cell_type": "code",
   "execution_count": 5,
   "source": [
    "import time\n",
    "\n",
    "def my_timer(fun):\n",
    "    def wrapper():\n",
    "        time_0 = time.time()\n",
    "        fun()\n",
    "        time_1 = time.time()\n",
    "        print(f'It took {time_1 - time_0} second to run')\n",
    "    return wrapper\n",
    "\n",
    "\n",
    "def dummy_fun():\n",
    "    for _ in range(50000000):\n",
    "        x = 'I am just losing your time'\n",
    "\n",
    "\n",
    "my_timer(dummy_fun)()"
   ],
   "outputs": [
    {
     "output_type": "stream",
     "name": "stdout",
     "text": [
      "It took 2.2778313159942627 second to run\n"
     ]
    }
   ],
   "metadata": {}
  },
  {
   "cell_type": "markdown",
   "source": [
    "But an even cooler thing you can do is this syntactic sugar offered by Python. You can decorate a function by adding `@` when defining the function"
   ],
   "metadata": {}
  },
  {
   "cell_type": "code",
   "execution_count": null,
   "source": [
    "@my_timer\n",
    "def dummy_fun():\n",
    "    for _ in range(50000000):\n",
    "        x = 'I am just losing your time'\n",
    "\n",
    "dummy_fun()"
   ],
   "outputs": [],
   "metadata": {}
  },
  {
   "cell_type": "markdown",
   "source": [
    "### Passing arguments to the decorated function\n",
    "\n",
    "Observe the following decorator. In this case, the decorated function doesn't need any argument to run, so leaving it like this will be fine"
   ],
   "metadata": {}
  },
  {
   "cell_type": "code",
   "execution_count": 56,
   "source": [
    "def repeat(func):\n",
    "    def wrapper():\n",
    "        func()\n",
    "        func()\n",
    "    return wrapper\n",
    "\n",
    "@repeat\n",
    "def say_something():\n",
    "    print('I am not going to repeat myself')\n",
    "\n",
    "say_something()"
   ],
   "outputs": [
    {
     "output_type": "stream",
     "name": "stdout",
     "text": [
      "I am not going to repeat myself\n",
      "I am not going to repeat myself\n"
     ]
    }
   ],
   "metadata": {}
  },
  {
   "cell_type": "markdown",
   "source": [
    "What if we want to pass some arguments to the inner function?"
   ],
   "metadata": {}
  },
  {
   "cell_type": "code",
   "execution_count": 1,
   "source": [
    "def repeat(func):\n",
    "    def wrapper():\n",
    "        func()\n",
    "        func()\n",
    "    return wrapper\n",
    "\n",
    "@repeat\n",
    "def say_hi(name):\n",
    "    print(f'Hello {name}')\n",
    "\n",
    "@repeat\n",
    "def addition(x, y):\n",
    "    print(x + y)\n",
    "\n",
    "addition(x=1, y=2)"
   ],
   "outputs": [
    {
     "output_type": "error",
     "ename": "TypeError",
     "evalue": "wrapper() got an unexpected keyword argument 'x'",
     "traceback": [
      "\u001b[0;31m---------------------------------------------------------------------------\u001b[0m",
      "\u001b[0;31mTypeError\u001b[0m                                 Traceback (most recent call last)",
      "\u001b[0;32m<ipython-input-1-a5186d7718d0>\u001b[0m in \u001b[0;36m<module>\u001b[0;34m\u001b[0m\n\u001b[1;32m     13\u001b[0m     \u001b[0mprint\u001b[0m\u001b[0;34m(\u001b[0m\u001b[0mx\u001b[0m \u001b[0;34m+\u001b[0m \u001b[0my\u001b[0m\u001b[0;34m)\u001b[0m\u001b[0;34m\u001b[0m\u001b[0;34m\u001b[0m\u001b[0m\n\u001b[1;32m     14\u001b[0m \u001b[0;34m\u001b[0m\u001b[0m\n\u001b[0;32m---> 15\u001b[0;31m \u001b[0maddition\u001b[0m\u001b[0;34m(\u001b[0m\u001b[0mx\u001b[0m\u001b[0;34m=\u001b[0m\u001b[0;36m1\u001b[0m\u001b[0;34m,\u001b[0m \u001b[0my\u001b[0m\u001b[0;34m=\u001b[0m\u001b[0;36m2\u001b[0m\u001b[0;34m)\u001b[0m\u001b[0;34m\u001b[0m\u001b[0;34m\u001b[0m\u001b[0m\n\u001b[0m",
      "\u001b[0;31mTypeError\u001b[0m: wrapper() got an unexpected keyword argument 'x'"
     ]
    }
   ],
   "metadata": {}
  },
  {
   "cell_type": "markdown",
   "source": [
    "We can see that the inner wrapper takes no arguments. So we could add the same argument to the wrapper. However, we don't know what functions our decorator is going to wrap, so there might be one or many arguments. What can we do?\n",
    "\n",
    "The key is in these two guys *args **kwargs"
   ],
   "metadata": {}
  },
  {
   "cell_type": "code",
   "execution_count": 66,
   "source": [
    "def repeat(func):\n",
    "    def wrapper(*args, **kwargs):\n",
    "        func(*args, **kwargs)\n",
    "        func(*args, **kwargs)\n",
    "    return wrapper\n",
    "\n",
    "def say_hi(name):\n",
    "    print(f'Hello {name}')\n",
    "    return 1\n",
    "\n",
    "repeat(say_hi)('Ivan')"
   ],
   "outputs": [
    {
     "output_type": "stream",
     "name": "stdout",
     "text": [
      "Hello Ivan\n",
      "Hello Ivan\n"
     ]
    }
   ],
   "metadata": {}
  },
  {
   "cell_type": "markdown",
   "source": [
    "### `Return` statement in the wrapper\n",
    "\n",
    "Imagine that we want to return something from the decorated function"
   ],
   "metadata": {}
  },
  {
   "cell_type": "code",
   "execution_count": 3,
   "source": [
    "def factorial(n):\n",
    "    previous = 1\n",
    "    for i in range(1, n + 1):\n",
    "        previous *= i \n",
    "    return previous\n",
    "\n",
    "print(factorial(5))"
   ],
   "outputs": [
    {
     "output_type": "stream",
     "name": "stdout",
     "text": [
      "120\n"
     ]
    }
   ],
   "metadata": {}
  },
  {
   "cell_type": "code",
   "execution_count": 6,
   "source": [
    "def my_timer(fun):\n",
    "    def wrapper(*args, **kwargs):\n",
    "        time_0 = time.time()\n",
    "        fun(*args, **kwargs)\n",
    "        time_1 = time.time()\n",
    "        print(f'It took {time_1 - time_0} second to run')\n",
    "    return wrapper\n",
    "\n",
    "\n",
    "@my_timer\n",
    "def factorial(n):\n",
    "    previous = 1\n",
    "    for i in range(1, n + 1):\n",
    "        previous *= i\n",
    "    return previous\n",
    "\n",
    "print(factorial(5))"
   ],
   "outputs": [
    {
     "output_type": "stream",
     "name": "stdout",
     "text": [
      "It took 6.9141387939453125e-06 second to run\n",
      "None\n"
     ]
    }
   ],
   "metadata": {}
  },
  {
   "cell_type": "markdown",
   "source": [
    "We are printing the message about how long it took for it to run, but we are not getting the value of factorial. That is because wrapper is not returning anything, and thus, it prints None. The solution is simply put a `return` statement."
   ],
   "metadata": {}
  },
  {
   "cell_type": "code",
   "execution_count": 72,
   "source": [
    "def my_timer(fun):\n",
    "    def wrapper(*args, **kwargs):\n",
    "        time_0 = time.time()\n",
    "        output = fun(*args, **kwargs)\n",
    "        time_1 = time.time()\n",
    "        print(f'It took {time_1 - time_0} second to run')\n",
    "        return output\n",
    "    return wrapper\n",
    "\n",
    "\n",
    "@my_timer\n",
    "def factorial(n):\n",
    "    previous = 1\n",
    "    for i in range(1, n + 1):\n",
    "        previous *= i\n",
    "    return previous\n",
    "\n",
    "print(factorial(5))"
   ],
   "outputs": [
    {
     "output_type": "stream",
     "name": "stdout",
     "text": [
      "It took 5.9604644775390625e-06 second to run\n",
      "120\n"
     ]
    }
   ],
   "metadata": {}
  },
  {
   "cell_type": "markdown",
   "source": [
    "### Classmethods and Staticmethods\n",
    "\n",
    "Two often used decorators are classmethods and staticmethods. They add functionality to methods\n",
    "\n",
    "classmethod must have a reference to a class object instead of an instance, whereas static methods doesn't point to an instance or a class (however they are bound to the class, so you have to call it from that class or from an instance of that class)"
   ],
   "metadata": {}
  },
  {
   "cell_type": "code",
   "execution_count": 80,
   "source": [
    "class Date:\n",
    "\n",
    "    def __init__(self, day=0, month=0, year=0):\n",
    "        print('Constructor called!')\n",
    "        if self.is_date_valid_int(day, month, year):\n",
    "            self.day = day\n",
    "            self.month = month\n",
    "            self.year = year\n",
    "        else:\n",
    "            raise ValueError('Wrong date')\n",
    "    \n",
    "    def get_date(self):\n",
    "        print(self.day, self.month)\n",
    "\n",
    "    @classmethod\n",
    "    def from_string(cls, date_as_string):\n",
    "        print('Classmethod called!')\n",
    "        date_list = date_as_string.split('-')\n",
    "        day = int(date_list[0])\n",
    "        month = int(date_list[1])\n",
    "        year = int(date_list[2])\n",
    "        # date1 = cls(day, month, year) # Here we are creating an instance from the same class we are in (Date)\n",
    "        return cls(day, month, year)\n",
    "\n",
    "    @staticmethod\n",
    "    def is_date_valid_string(date_as_string):\n",
    "        print('Staticmethod called!')\n",
    "        day, month, year = map(int, date_as_string.split('-'))\n",
    "        return day <= 31 and month <= 12 and year <= 3999\n",
    "    \n",
    "    @staticmethod\n",
    "    def is_date_valid_int(day, month, year):\n",
    "        return day <= 31 and month <= 12 and year <= 3999\n",
    "\n",
    "date = Date.from_string('19-2-1991')\n",
    "# print(date.is_date_valid_int(19, 5, 1991))\n",
    "# # Date.from_string('11-09-2012')\n",
    "# print(date.is_date_valid('11-10-2012')) # This statement doesn't depend of an instance"
   ],
   "outputs": [
    {
     "output_type": "stream",
     "name": "stdout",
     "text": [
      "I am a class method\n",
      "Checking\n"
     ]
    }
   ],
   "metadata": {}
  },
  {
   "cell_type": "code",
   "execution_count": 46,
   "source": [
    "import datetime\n",
    "class Person:\n",
    "    def __init__(self, name, age):\n",
    "        self.name = name\n",
    "        self.age = age\n",
    "    \n",
    "    @classmethod\n",
    "    def from_dob(cls, name, dob):\n",
    "        dob_year = int(dob.split('-')[2])\n",
    "        dob_month = int(dob.split('-')[1])\n",
    "        today = datetime.datetime.today()\n",
    "        today_year = today.year\n",
    "        today_month = today.month\n",
    "        age = today_year - dob_year\n",
    "        if dob_month >= today_month:\n",
    "            age -= 1\n",
    "        return cls(name, age) "
   ],
   "outputs": [],
   "metadata": {}
  },
  {
   "cell_type": "code",
   "execution_count": 48,
   "source": [
    "ivan = Person('Ivan', 30)\n",
    "ivan_real = Person.from_dob('Good Ivan', '19-05-1991')\n",
    "ivan_doppelganger = Person.from_dob('Evil Ivan', '19-12-1991')"
   ],
   "outputs": [],
   "metadata": {}
  },
  {
   "cell_type": "code",
   "execution_count": 49,
   "source": [
    "print(ivan.age)\n",
    "print(ivan_real.age)\n",
    "print(ivan_doppelganger.age)"
   ],
   "outputs": [
    {
     "output_type": "stream",
     "name": "stdout",
     "text": [
      "30\n",
      "30\n",
      "29\n"
     ]
    }
   ],
   "metadata": {}
  },
  {
   "cell_type": "markdown",
   "source": [
    "## Generators"
   ],
   "metadata": {}
  },
  {
   "cell_type": "markdown",
   "source": [
    "Generators are like lists, but instead of giving you all the elements of the list, it will give you small slices of the whole list. This is helpful for:\n",
    "\n",
    "- Saving memory\n",
    "- Representing infinite lists (without buffer overflow)\n",
    "- Generate pipelines (Fibonacci or factorial)\n",
    "\n",
    "Two main ways to create generators: \n",
    "1. substituting return for yield in a function\n",
    "2. Using a comprehension"
   ],
   "metadata": {}
  },
  {
   "cell_type": "markdown",
   "source": [
    "The difference between return and yield, is that yield will pause the function at that point, and the next time the function is called, it will resume at that point"
   ],
   "metadata": {}
  },
  {
   "cell_type": "code",
   "execution_count": 54,
   "source": [
    "def gen_test():\n",
    "    print('Starting the generator')\n",
    "    yield 1\n",
    "    print('Second time calling the generator')\n",
    "    yield 2\n",
    "    print('Third time calling the generator')\n",
    "    yield 3\n",
    "    print('Fourth time. After this, I will die if you call me again')\n",
    "    yield 4\n",
    "    print('Why do you hate me?')\n",
    "\n",
    "gen = gen_test()"
   ],
   "outputs": [],
   "metadata": {}
  },
  {
   "cell_type": "code",
   "execution_count": 55,
   "source": [
    "type(gen)"
   ],
   "outputs": [
    {
     "output_type": "execute_result",
     "data": {
      "text/plain": [
       "generator"
      ]
     },
     "metadata": {},
     "execution_count": 55
    }
   ],
   "metadata": {}
  },
  {
   "cell_type": "code",
   "execution_count": 57,
   "source": [
    "next(gen)"
   ],
   "outputs": [
    {
     "output_type": "stream",
     "name": "stdout",
     "text": [
      "Starting the generator\n"
     ]
    },
    {
     "output_type": "execute_result",
     "data": {
      "text/plain": [
       "1"
      ]
     },
     "metadata": {},
     "execution_count": 57
    }
   ],
   "metadata": {}
  },
  {
   "cell_type": "code",
   "execution_count": 58,
   "source": [
    "next(gen)"
   ],
   "outputs": [
    {
     "output_type": "stream",
     "name": "stdout",
     "text": [
      "Second time calling the generator\n"
     ]
    },
    {
     "output_type": "execute_result",
     "data": {
      "text/plain": [
       "2"
      ]
     },
     "metadata": {},
     "execution_count": 58
    }
   ],
   "metadata": {}
  },
  {
   "cell_type": "code",
   "execution_count": 59,
   "source": [
    "next(gen)"
   ],
   "outputs": [
    {
     "output_type": "stream",
     "name": "stdout",
     "text": [
      "Third time calling the generator\n"
     ]
    },
    {
     "output_type": "execute_result",
     "data": {
      "text/plain": [
       "3"
      ]
     },
     "metadata": {},
     "execution_count": 59
    }
   ],
   "metadata": {}
  },
  {
   "cell_type": "code",
   "execution_count": 60,
   "source": [
    "next(gen)"
   ],
   "outputs": [
    {
     "output_type": "stream",
     "name": "stdout",
     "text": [
      "Fourth time. After this, I will die if you call me again\n"
     ]
    },
    {
     "output_type": "execute_result",
     "data": {
      "text/plain": [
       "4"
      ]
     },
     "metadata": {},
     "execution_count": 60
    }
   ],
   "metadata": {}
  },
  {
   "cell_type": "code",
   "execution_count": 61,
   "source": [
    "next(gen)"
   ],
   "outputs": [
    {
     "output_type": "stream",
     "name": "stdout",
     "text": [
      "Why do you hate me?\n"
     ]
    },
    {
     "output_type": "error",
     "ename": "StopIteration",
     "evalue": "",
     "traceback": [
      "\u001b[0;31m---------------------------------------------------------------------------\u001b[0m",
      "\u001b[0;31mStopIteration\u001b[0m                             Traceback (most recent call last)",
      "\u001b[0;32m<ipython-input-61-6e72e47198db>\u001b[0m in \u001b[0;36m<module>\u001b[0;34m\u001b[0m\n\u001b[0;32m----> 1\u001b[0;31m \u001b[0mnext\u001b[0m\u001b[0;34m(\u001b[0m\u001b[0mgen\u001b[0m\u001b[0;34m)\u001b[0m\u001b[0;34m\u001b[0m\u001b[0;34m\u001b[0m\u001b[0m\n\u001b[0m",
      "\u001b[0;31mStopIteration\u001b[0m: "
     ]
    }
   ],
   "metadata": {}
  },
  {
   "cell_type": "code",
   "execution_count": 62,
   "source": [
    "gen = gen_test()\n",
    "for i in gen:\n",
    "    print(i)"
   ],
   "outputs": [
    {
     "output_type": "stream",
     "name": "stdout",
     "text": [
      "Starting the generator\n",
      "1\n",
      "Second time calling the generator\n",
      "2\n",
      "Third time calling the generator\n",
      "3\n",
      "Fourth time. After this, I will die if you call me again\n",
      "4\n",
      "Why do you hate me?\n"
     ]
    }
   ],
   "metadata": {}
  },
  {
   "cell_type": "markdown",
   "source": [
    "With this in mind, you can create infinite generators that don't take infinite space in memory!"
   ],
   "metadata": {}
  },
  {
   "cell_type": "code",
   "execution_count": 8,
   "source": [
    "def inf_gen():\n",
    "    i = 0\n",
    "    while True:\n",
    "        yield i\n",
    "        i += 1"
   ],
   "outputs": [],
   "metadata": {}
  },
  {
   "cell_type": "code",
   "execution_count": 64,
   "source": [
    "gen = inf_gen()\n",
    "next(gen)"
   ],
   "outputs": [
    {
     "output_type": "execute_result",
     "data": {
      "text/plain": [
       "0"
      ]
     },
     "metadata": {},
     "execution_count": 64
    }
   ],
   "metadata": {}
  },
  {
   "cell_type": "code",
   "execution_count": null,
   "source": [
    "# Press Ctrl + C or the stop button to stop me!\n",
    "for i in inf_gen():\n",
    "    print(i, end=' ')"
   ],
   "outputs": [],
   "metadata": {}
  },
  {
   "cell_type": "markdown",
   "source": [
    "And, using this principle, you can create an infinite fibonacci generator. Whatever your generator does is up to you!"
   ],
   "metadata": {}
  },
  {
   "cell_type": "code",
   "execution_count": 9,
   "source": [
    "# Function with yield statement:\n",
    "def gen_fib():\n",
    "    n_0 = 0\n",
    "    n_1 = 1\n",
    "    while True:\n",
    "        n_2 = n_0 + n_1\n",
    "        yield n_2\n",
    "        print('I am coming back')\n",
    "        n_0 = n_1\n",
    "        n_1 = n_2\n",
    "\n",
    "fib = gen_fib()   \n"
   ],
   "outputs": [],
   "metadata": {}
  },
  {
   "cell_type": "code",
   "execution_count": 10,
   "source": [
    "for _ in range(10):\n",
    "    print(next(fib))"
   ],
   "outputs": [
    {
     "output_type": "stream",
     "name": "stdout",
     "text": [
      "1\n",
      "I am coming back\n",
      "2\n",
      "I am coming back\n",
      "3\n",
      "I am coming back\n",
      "5\n",
      "I am coming back\n",
      "8\n",
      "I am coming back\n",
      "13\n",
      "I am coming back\n",
      "21\n",
      "I am coming back\n",
      "34\n",
      "I am coming back\n",
      "55\n",
      "I am coming back\n",
      "89\n"
     ]
    }
   ],
   "metadata": {}
  },
  {
   "cell_type": "markdown",
   "source": [
    "### Generator comprehensions"
   ],
   "metadata": {}
  },
  {
   "cell_type": "markdown",
   "source": [
    "You don't need to define a function to create a generator. You can use a comprehension statement and wrap it between parentheses"
   ],
   "metadata": {}
  },
  {
   "cell_type": "code",
   "execution_count": 16,
   "source": [
    "ls_double = [x * 2 for x in range(10)]\n",
    "ls_gen = (x * 2 for x in range(10))"
   ],
   "outputs": [],
   "metadata": {}
  },
  {
   "cell_type": "code",
   "execution_count": 17,
   "source": [
    "print(ls_double)\n",
    "print(ls_gen)\n",
    "# print(next(ls_gen))\n",
    "# print(next(ls_gen))\n",
    "# print(next(ls_gen))"
   ],
   "outputs": [
    {
     "output_type": "stream",
     "name": "stdout",
     "text": [
      "[0, 2, 4, 6, 8, 10, 12, 14, 16, 18]\n",
      "<generator object <genexpr> at 0x1150172e0>\n"
     ]
    }
   ],
   "metadata": {}
  },
  {
   "cell_type": "markdown",
   "source": [
    "But, similar to normal generators, if you exhaust it, it will throw an error next time you try to retrieve more data"
   ],
   "metadata": {}
  },
  {
   "cell_type": "code",
   "execution_count": 28,
   "source": [
    "next(ls_gen)"
   ],
   "outputs": [
    {
     "output_type": "error",
     "ename": "StopIteration",
     "evalue": "",
     "traceback": [
      "\u001b[0;31m---------------------------------------------------------------------------\u001b[0m",
      "\u001b[0;31mStopIteration\u001b[0m                             Traceback (most recent call last)",
      "\u001b[0;32m<ipython-input-28-1407bab2d091>\u001b[0m in \u001b[0;36m<module>\u001b[0;34m\u001b[0m\n\u001b[0;32m----> 1\u001b[0;31m \u001b[0mnext\u001b[0m\u001b[0;34m(\u001b[0m\u001b[0mls_gen\u001b[0m\u001b[0;34m)\u001b[0m\u001b[0;34m\u001b[0m\u001b[0;34m\u001b[0m\u001b[0m\n\u001b[0m",
      "\u001b[0;31mStopIteration\u001b[0m: "
     ]
    }
   ],
   "metadata": {}
  },
  {
   "cell_type": "code",
   "execution_count": 13,
   "source": [
    "for i in ls_gen:\n",
    "    print(i)"
   ],
   "outputs": [
    {
     "output_type": "stream",
     "name": "stdout",
     "text": [
      "0\n",
      "2\n",
      "4\n",
      "6\n",
      "8\n",
      "10\n",
      "12\n",
      "14\n",
      "16\n",
      "18\n"
     ]
    }
   ],
   "metadata": {}
  },
  {
   "cell_type": "markdown",
   "source": [
    "## Imports"
   ],
   "metadata": {}
  },
  {
   "cell_type": "markdown",
   "source": [
    "Functions and classes are pieces of code. We can make our script tidier if we put those pieces of code apart, and then import them."
   ],
   "metadata": {}
  },
  {
   "cell_type": "code",
   "execution_count": 2,
   "source": [
    "from utils import m_and_m\n",
    "m_and_m.mom_spaghetti_2()"
   ],
   "outputs": [
    {
     "output_type": "stream",
     "name": "stdout",
     "text": [
      "His palms are sweaty, knees weak, arms are heavy\n",
      "There's vomit on his sweater already, mom's spaghetti\n",
      "He's nervous, but on the surface he looks calm and ready\n",
      "To drop bombs, but he keeps on forgettin\n"
     ]
    }
   ],
   "metadata": {}
  },
  {
   "cell_type": "markdown",
   "source": [
    "m_and_m is a module. A module is a script that contains definitions and statements, usually functions. Important! Once you import a module, if you rerun the import statement with the same module, python will ignore it that call, because it assumes that it has already run it, and will just load whatever it run before. Thus, if you change anything in your modules, you have to reset the kernel to make the changes effective."
   ],
   "metadata": {}
  },
  {
   "cell_type": "markdown",
   "source": [
    "You can also call for a single function inside a module"
   ],
   "metadata": {}
  },
  {
   "cell_type": "code",
   "execution_count": 2,
   "source": [
    "from utils.m_and_m import mom_spaghetti\n",
    "\n",
    "mom_spaghetti()\n"
   ],
   "outputs": [
    {
     "output_type": "stream",
     "name": "stdout",
     "text": [
      "Look\n",
      "If you had\n",
      "One shot\n",
      "Or one opportunity\n",
      "To seize everything you ever wanted\n",
      "In one moment\n",
      "Would you capture it\n",
      "Or just let it slip?\n"
     ]
    }
   ],
   "metadata": {}
  },
  {
   "cell_type": "markdown",
   "source": [
    "Observe the \\_\\_init__ file in the utils directory. This basically tells python that the directory can be treated as a package. Thus, we can import the whole folder as one single script."
   ],
   "metadata": {}
  },
  {
   "cell_type": "code",
   "execution_count": 3,
   "source": [
    "from utils import * # This is calling the utils directory, and everything inside it (*)\n",
    "                    # Recall that in the __init__ file we specified __all__. It works the same\n",
    "                    # way magic methods work. We are telling python what to do when it sees the (*) operator\n"
   ],
   "outputs": [],
   "metadata": {}
  },
  {
   "cell_type": "markdown",
   "source": [
    "The utils directory has two modules: m_and_m and fibo. So just by importing utils, it would be the same as importing both m_and_m and fibo"
   ],
   "metadata": {}
  },
  {
   "cell_type": "code",
   "execution_count": 4,
   "source": [
    "fibo.fib(5)"
   ],
   "outputs": [
    {
     "output_type": "stream",
     "name": "stdout",
     "text": [
      "0 1 1 2 3 \n"
     ]
    }
   ],
   "metadata": {}
  },
  {
   "cell_type": "markdown",
   "source": [
    "This same principle can be applied to the whole internet! If you 'download' a library, you are basically 'downloading' code that other people have done.\n",
    "\n",
    "People can publish python libraries to [PyPi](https://pypi.org) (the python package index)\n",
    "\n",
    "You 'download' it using pip install [package] or conda install [package]. Then that code is stored in PATH"
   ],
   "metadata": {}
  },
  {
   "cell_type": "code",
   "execution_count": 2,
   "source": [
    "import numpy as np"
   ],
   "outputs": [],
   "metadata": {}
  },
  {
   "cell_type": "code",
   "execution_count": 3,
   "source": [
    "import pandas as pd"
   ],
   "outputs": [],
   "metadata": {}
  },
  {
   "cell_type": "markdown",
   "source": [
    "## Context Managers"
   ],
   "metadata": {}
  },
  {
   "cell_type": "markdown",
   "source": [
    "A common problem in programming is that you will retain resources, such as files, directories, connections... forever, even when you don't need them anymore. Managing resources properly is often a tricky problem. It requires both a setup and a cleanup phase (opening and closing a file for example). \n",
    "\n",
    "Python has a function called open, which instantiate a file object to a variable."
   ],
   "metadata": {}
  },
  {
   "cell_type": "code",
   "execution_count": 28,
   "source": [
    "file = open(\"hello.txt\", \"w\")\n",
    "file.write(\"Hello, World!\")\n",
    "file.close()"
   ],
   "outputs": [],
   "metadata": {}
  },
  {
   "cell_type": "markdown",
   "source": [
    " If you write to a file without closing, the data won’t make it to the target file"
   ],
   "metadata": {}
  },
  {
   "cell_type": "code",
   "execution_count": 32,
   "source": [
    "file = open(\"hello.txt\", \"w\")\n",
    "file.write(\"Will I will be printed?\")"
   ],
   "outputs": [
    {
     "output_type": "execute_result",
     "data": {
      "text/plain": [
       "23"
      ]
     },
     "metadata": {},
     "execution_count": 32
    }
   ],
   "metadata": {}
  },
  {
   "cell_type": "code",
   "execution_count": 34,
   "source": [
    "file.close()"
   ],
   "outputs": [],
   "metadata": {}
  },
  {
   "cell_type": "markdown",
   "source": [
    "We can avoid these errors using context managers"
   ],
   "metadata": {}
  },
  {
   "cell_type": "code",
   "execution_count": null,
   "source": [
    "#The syntax is:\n",
    "\n",
    "with expression as target_var:\n",
    "    do_something(target_var)"
   ],
   "outputs": [],
   "metadata": {}
  },
  {
   "cell_type": "markdown",
   "source": [
    "So for opening and closing a file:"
   ],
   "metadata": {}
  },
  {
   "cell_type": "code",
   "execution_count": 35,
   "source": [
    "with open(\"hello.txt\", mode=\"w\") as file:\n",
    "    file.write(\"I come from the context manager, nice to meet you\")"
   ],
   "outputs": [],
   "metadata": {}
  },
  {
   "cell_type": "code",
   "execution_count": 14,
   "source": [
    "import tempfile\n",
    "import time\n",
    "with tempfile.TemporaryDirectory(dir='.') as tmpdirname:\n",
    "    print(tmpdirname)\n",
    "    with open(f\"{tmpdirname}/hello.txt\", mode=\"w\") as file:\n",
    "        file.write(\"I come from the context manager, nice to meet you\")\n",
    "    time.sleep(20) # Observe the current directory during these 20 seconds\n",
    "                   # Inside that directory you will find the hello.txt file\n",
    "                   # After 20 seconds *puff* gone!"
   ],
   "outputs": [
    {
     "output_type": "stream",
     "name": "stdout",
     "text": [
      "./tmpisnvyoz1\n"
     ]
    }
   ],
   "metadata": {}
  },
  {
   "cell_type": "markdown",
   "source": [
    "Temporary directories are quite useful if you are going to use some files for a short period of time. For example, when training a ML model, the data that you will use might be heavy AND available online. So you can store that data while training the model, and after that remove it from your local machine to release memory space."
   ],
   "metadata": {}
  }
 ],
 "metadata": {
  "interpreter": {
   "hash": "569d6b7e9215e11aba41c6454007e5c1b78bad7df09dab765d8cf00362c40f03"
  },
  "kernelspec": {
   "display_name": "Python 3.9.1 64-bit ('base': conda)",
   "name": "python3"
  },
  "language_info": {
   "name": "python",
   "version": ""
  },
  "orig_nbformat": 4
 },
 "nbformat": 4,
 "nbformat_minor": 2
}